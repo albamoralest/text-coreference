{
 "cells": [
  {
   "cell_type": "markdown",
   "id": "e1ce9e9f-e04e-4f53-b676-9c0d2e138281",
   "metadata": {},
   "source": [
    "## Testing coref - resolve text"
   ]
  },
  {
   "cell_type": "markdown",
   "id": "414e3f72-ed37-406d-8620-6dfd6f56b5e8",
   "metadata": {},
   "source": [
    "Requirement: return text after resolving coreference, replacen coreference nouns\n",
    "\n",
    "Process: \n",
    "1. Read the object\n",
    "2. Get the resolved text\n",
    "3. Test with different biographies"
   ]
  },
  {
   "cell_type": "code",
   "execution_count": 1,
   "id": "e4072243-4f4e-4f91-9381-5071a5adc345",
   "metadata": {},
   "outputs": [],
   "source": [
    "import os\n",
    "import pandas as pd\n",
    "import re\n",
    "import numpy as np\n",
    "# to eliminate accents\n",
    "# from unidecode import unidecode\n",
    "# to clear memory\n",
    "import gc\n",
    "pd.options.mode.copy_on_write = True\n",
    "# time execution\n",
    "from timeit import default_timer as timer"
   ]
  },
  {
   "cell_type": "code",
   "execution_count": 2,
   "id": "27b1f929-aa5a-4750-ac31-4382d29ffbd8",
   "metadata": {
    "tags": []
   },
   "outputs": [
    {
     "name": "stderr",
     "output_type": "stream",
     "text": [
      "/data/user-data/amt557/meetups_env/lib/python3.8/site-packages/tqdm/auto.py:21: TqdmWarning: IProgress not found. Please update jupyter and ipywidgets. See https://ipywidgets.readthedocs.io/en/stable/user_install.html\n",
      "  from .autonotebook import tqdm as notebook_tqdm\n",
      "01/03/2024 15:55:57 - INFO - \t missing_keys: []\n",
      "01/03/2024 15:55:57 - INFO - \t unexpected_keys: []\n",
      "01/03/2024 15:55:57 - INFO - \t mismatched_keys: []\n",
      "01/03/2024 15:55:57 - INFO - \t error_msgs: []\n",
      "01/03/2024 15:55:57 - INFO - \t Model Parameters: 90.5M, Transformer: 82.1M, Coref head: 8.4M\n"
     ]
    },
    {
     "name": "stdout",
     "output_type": "stream",
     "text": [
      "['transformer', 'tagger', 'parser', 'attribute_ruler', 'lemmatizer', 'ner', 'entityfishing', 'fastcoref']\n"
     ]
    }
   ],
   "source": [
    "from fastcoref import spacy_component\n",
    "import spacy\n",
    "\n",
    "nlp = spacy.load(\"en_core_web_trf\")\n",
    "# smaller dataset \n",
    "# nlp = spacy.load(\"en_core_web_sm\")\n",
    "\n",
    "# for entity recognition\n",
    "# entity linking\n",
    "import spacyfishing\n",
    "# specify configuration:\n",
    "nlp.add_pipe(\"entityfishing\", config={\"extra_info\": True})\n",
    "\n",
    "# add to the pipeline fastcoref\n",
    "import spacy_transformers\n",
    "from spacy.tokens import Doc\n",
    "nlp.add_pipe(\"fastcoref\")\n",
    "\n",
    "print(nlp.pipe_names)"
   ]
  },
  {
   "cell_type": "code",
   "execution_count": 17,
   "id": "0bd84ea3-fbff-4ae0-a52f-f591a0147055",
   "metadata": {},
   "outputs": [],
   "source": [
    "# get the cached coref from disk\n",
    "doc = Doc(nlp.vocab).from_disk(\"cacheCoref-fastcoref/31281773_2.coref\")"
   ]
  },
  {
   "cell_type": "code",
   "execution_count": 18,
   "id": "00df9582-ae07-4703-82bc-d6d0d1cbf94d",
   "metadata": {},
   "outputs": [
    {
     "data": {
      "text/plain": [
       "\"From the age of 6, Gonzalo began singing and recorded in Lone Star Studios in Texas 2 years after. Gonzalo's love for singing and acting would continue to grow in drama throughout school, partaking in plays and extracurricular activities such as garage bands during middle school. Gonzalo began playing guitar at age 15 and taught the person who had sold Gonzalo Gonzalo's first guitar a song Gonzalo had learned after only one week. Gonzalo continued singing in punk/rock bands as a teen, but felt limited in Gonzalo's artistic expression due to social phobia and onstage panic. \""
      ]
     },
     "execution_count": 18,
     "metadata": {},
     "output_type": "execute_result"
    }
   ],
   "source": [
    "# doc = nlp(      # for multiple texts use nlp.pipe\n",
    "#    text, \n",
    "#    component_cfg={\"fastcoref\": {'resolve_text': True}}\n",
    "# )\n",
    "\n",
    "doc._.resolved_text"
   ]
  },
  {
   "cell_type": "code",
   "execution_count": null,
   "id": "7496d3a7-3398-43b2-9e96-2e68d5c8fcb4",
   "metadata": {},
   "outputs": [],
   "source": []
  }
 ],
 "metadata": {
  "kernelspec": {
   "display_name": "Python 3 (ipykernel)",
   "language": "python",
   "name": "python3"
  },
  "language_info": {
   "codemirror_mode": {
    "name": "ipython",
    "version": 3
   },
   "file_extension": ".py",
   "mimetype": "text/x-python",
   "name": "python",
   "nbconvert_exporter": "python",
   "pygments_lexer": "ipython3",
   "version": "3.8.12"
  }
 },
 "nbformat": 4,
 "nbformat_minor": 5
}
