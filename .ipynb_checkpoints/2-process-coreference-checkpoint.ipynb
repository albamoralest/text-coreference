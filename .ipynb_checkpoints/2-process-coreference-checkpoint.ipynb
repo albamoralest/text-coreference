{
 "cells": [
  {
   "cell_type": "markdown",
   "id": "3591d7a5-1f93-4105-ba6e-9c2b56d16368",
   "metadata": {},
   "source": [
    "# Processing coreference using a set of PERIODICAL's biographies"
   ]
  },
  {
   "cell_type": "code",
   "execution_count": null,
   "id": "ecf7e57f-e431-4228-8a80-d7db046c56b4",
   "metadata": {},
   "outputs": [],
   "source": []
  }
 ],
 "metadata": {
  "kernelspec": {
   "display_name": "Python 3 (ipykernel)",
   "language": "python",
   "name": "python3"
  },
  "language_info": {
   "codemirror_mode": {
    "name": "ipython",
    "version": 3
   },
   "file_extension": ".py",
   "mimetype": "text/x-python",
   "name": "python",
   "nbconvert_exporter": "python",
   "pygments_lexer": "ipython3",
   "version": "3.9.7"
  }
 },
 "nbformat": 4,
 "nbformat_minor": 5
}
